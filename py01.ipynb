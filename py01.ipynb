{
 "cells": [
  {
   "cell_type": "markdown",
   "metadata": {},
   "source": [
    "# 파이썬 표준입출력"
   ]
  },
  {
   "cell_type": "code",
   "execution_count": 6,
   "metadata": {},
   "outputs": [
    {
     "name": "stdout",
     "output_type": "stream",
     "text": [
      "정민철님 안녕하세요\n"
     ]
    }
   ],
   "source": [
    "#표준출력 (파이썬 주석)\n",
    "print('정민철님 안녕하세요')"
   ]
  },
  {
   "cell_type": "code",
   "execution_count": 2,
   "metadata": {},
   "outputs": [
    {
     "name": "stdout",
     "output_type": "stream",
     "text": [
      "안녕\n",
      "하세요\n"
     ]
    }
   ],
   "source": [
    "print('안녕')\n",
    "print('하세요')"
   ]
  },
  {
   "cell_type": "code",
   "execution_count": 5,
   "metadata": {},
   "outputs": [
    {
     "name": "stdout",
     "output_type": "stream",
     "text": [
      "안녕하세요\n",
      "안녕,하세요\n"
     ]
    }
   ],
   "source": [
    "print('안녕',end='')\n",
    "print('하세요')\n",
    "print('안녕',end=',')\n",
    "print('하세요')"
   ]
  },
  {
   "cell_type": "code",
   "execution_count": 8,
   "metadata": {},
   "outputs": [
    {
     "name": "stdout",
     "output_type": "stream",
     "text": [
      "10\n",
      "10\n"
     ]
    }
   ],
   "source": [
    "#표준입력\n",
    "x = input()\n",
    "print(x)"
   ]
  },
  {
   "cell_type": "code",
   "execution_count": 11,
   "metadata": {},
   "outputs": [
    {
     "name": "stdout",
     "output_type": "stream",
     "text": [
      "숫자를 입력하세요.100\n",
      "입력된 숫자는  100  입니다.\n"
     ]
    }
   ],
   "source": [
    "x= input('숫자를 입력하세요.')\n",
    "print('입력된 숫자는 ', x,' 입니다.')"
   ]
  },
  {
   "cell_type": "code",
   "execution_count": 15,
   "metadata": {},
   "outputs": [
    {
     "name": "stdout",
     "output_type": "stream",
     "text": [
      "첫번째 숫자를 입력하세요.20\n",
      "두번째 숫자를 입력하세요.10\n",
      "20  +  10  =  30\n",
      "20  -  10  =  10\n",
      "20  *  10  =  200\n",
      "20  /  10  =  2.0\n"
     ]
    }
   ],
   "source": [
    "x= int(input('첫번째 숫자를 입력하세요.'))\n",
    "y= int(input('두번째 숫자를 입력하세요.'))\n",
    "print(x, ' + ', y, ' = ', x+y)\n",
    "print(x, ' - ', y, ' = ', x-y)\n",
    "print(x, ' * ', y, ' = ', x*y)\n",
    "print(x, ' / ', y, ' = ', x/y)"
   ]
  },
  {
   "cell_type": "code",
   "execution_count": 18,
   "metadata": {},
   "outputs": [
    {
     "name": "stdout",
     "output_type": "stream",
     "text": [
      "20/10=2.0\n"
     ]
    }
   ],
   "source": [
    "print(str(x) + '/' + str(y) + '=' + str(x/y))"
   ]
  },
  {
   "cell_type": "code",
   "execution_count": 19,
   "metadata": {},
   "outputs": [
    {
     "data": {
      "text/plain": [
       "int"
      ]
     },
     "execution_count": 19,
     "metadata": {},
     "output_type": "execute_result"
    }
   ],
   "source": [
    "type(x)"
   ]
  },
  {
   "cell_type": "code",
   "execution_count": 20,
   "metadata": {},
   "outputs": [
    {
     "data": {
      "text/plain": [
       "float"
      ]
     },
     "execution_count": 20,
     "metadata": {},
     "output_type": "execute_result"
    }
   ],
   "source": [
    "type(x/y)"
   ]
  },
  {
   "cell_type": "code",
   "execution_count": 21,
   "metadata": {},
   "outputs": [
    {
     "name": "stdout",
     "output_type": "stream",
     "text": [
      "[1, 2.0, '3']\n"
     ]
    }
   ],
   "source": [
    "#리스트 :데이터 변형 가능\n",
    "lst = [1,2.0,'3']\n",
    "print(lst)"
   ]
  },
  {
   "cell_type": "code",
   "execution_count": 22,
   "metadata": {},
   "outputs": [
    {
     "name": "stdout",
     "output_type": "stream",
     "text": [
      "(1, 2.0, '3')\n"
     ]
    }
   ],
   "source": [
    "#튜플\n",
    "t = (1,2.0,'3')\n",
    "print(t)"
   ]
  },
  {
   "cell_type": "code",
   "execution_count": 23,
   "metadata": {},
   "outputs": [
    {
     "name": "stdout",
     "output_type": "stream",
     "text": [
      "{'a': 1, 'b': 2}\n"
     ]
    }
   ],
   "source": [
    "#딕셔너리 : 순서가 없음 \n",
    "dic = {'a':1 , 'b':2}\n",
    "print(dic)"
   ]
  },
  {
   "cell_type": "code",
   "execution_count": null,
   "metadata": {},
   "outputs": [],
   "source": []
  }
 ],
 "metadata": {
  "kernelspec": {
   "display_name": "Python 3",
   "language": "python",
   "name": "python3"
  },
  "language_info": {
   "codemirror_mode": {
    "name": "ipython",
    "version": 3
   },
   "file_extension": ".py",
   "mimetype": "text/x-python",
   "name": "python",
   "nbconvert_exporter": "python",
   "pygments_lexer": "ipython3",
   "version": "3.7.3"
  }
 },
 "nbformat": 4,
 "nbformat_minor": 2
}
