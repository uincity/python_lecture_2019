{
 "cells": [
  {
   "cell_type": "markdown",
   "metadata": {},
   "source": [
    "## 실습1 : 주식정보에서 주가 가져오기"
   ]
  },
  {
   "cell_type": "markdown",
   "metadata": {},
   "source": [
    "### 1. 리스트로 만들어서 해결하기"
   ]
  },
  {
   "cell_type": "code",
   "execution_count": 5,
   "metadata": {},
   "outputs": [
    {
     "name": "stdout",
     "output_type": "stream",
     "text": [
      "['삼성전자', '남영비비안', 'SK하이닉스', '후성', '플리토', '메지온', '삼륭물산', '이아이디', '삼성전기', '헬릭스미스']\n",
      "[47450, 9170, 79900, 10400, 37850, 103300, 9330, 422, 97700, 218700]\n"
     ]
    }
   ],
   "source": [
    "stock=['삼성전자','남영비비안','SK하이닉스','후성','플리토','메지온','삼륭물산','이아이디','삼성전기','헬릭스미스']\n",
    "price=[47450,9170,79900,10400,37850,103300,9330,422,97700,218700]\n",
    "print(stock)\n",
    "print(price)"
   ]
  },
  {
   "cell_type": "code",
   "execution_count": 11,
   "metadata": {},
   "outputs": [
    {
     "name": "stdout",
     "output_type": "stream",
     "text": [
      "4\n",
      "플리토현재가 37850\n"
     ]
    }
   ],
   "source": [
    "#플리토의 주가 찾기\n",
    "idx = stock.index('플리토')\n",
    "print('플리토 현재가:',price[idx])"
   ]
  },
  {
   "cell_type": "code",
   "execution_count": 12,
   "metadata": {},
   "outputs": [
    {
     "name": "stdout",
     "output_type": "stream",
     "text": [
      "가장비싼 주식: 헬릭스미스\n"
     ]
    }
   ],
   "source": [
    "#현재 리스트중에 최대주가의  종목명 가져오기\n",
    "\n",
    "maxPrice = max(price)\n",
    "idx2 = price.index(maxPrice)\n",
    "print('가장비싼 주식:',stock[idx2])"
   ]
  },
  {
   "cell_type": "markdown",
   "metadata": {},
   "source": [
    "## 2. 딕셔너리로 만들어서 해결하기"
   ]
  },
  {
   "cell_type": "code",
   "execution_count": 13,
   "metadata": {},
   "outputs": [
    {
     "name": "stdout",
     "output_type": "stream",
     "text": [
      "{'삼성전자': 47450, '남영비비안': 9170, 'SK하이닉스': 79900, '후성': 10400, '플리토': 37850, '메지온': 103300, '삼륭물산': 9330, '이아이디': 422, '삼성전기': 97700, '헬릭스미스': 218700}\n"
     ]
    }
   ],
   "source": [
    "#1번에서 만든 리스트를 결합해서 딕셔너리 생성\n",
    "stock_price = dict(zip(stock,price))\n",
    "print(stock_price)"
   ]
  },
  {
   "cell_type": "code",
   "execution_count": 17,
   "metadata": {},
   "outputs": [
    {
     "name": "stdout",
     "output_type": "stream",
     "text": [
      "37850\n"
     ]
    }
   ],
   "source": [
    "print(stock_price.get('플리토'))"
   ]
  },
  {
   "cell_type": "code",
   "execution_count": 20,
   "metadata": {},
   "outputs": [
    {
     "name": "stdout",
     "output_type": "stream",
     "text": [
      "최대 현재가:  (218700, '헬릭스미스')\n"
     ]
    }
   ],
   "source": [
    "#최대값 찾기  zip으로 하는경우 max값 찾는거를 바로 앞에 가져와야 한다.\n",
    "print('최대 현재가: ',max(zip(stock_price.values(), stock_price.keys())))"
   ]
  },
  {
   "cell_type": "code",
   "execution_count": null,
   "metadata": {},
   "outputs": [],
   "source": []
  }
 ],
 "metadata": {
  "kernelspec": {
   "display_name": "Python 3",
   "language": "python",
   "name": "python3"
  },
  "language_info": {
   "codemirror_mode": {
    "name": "ipython",
    "version": 3
   },
   "file_extension": ".py",
   "mimetype": "text/x-python",
   "name": "python",
   "nbconvert_exporter": "python",
   "pygments_lexer": "ipython3",
   "version": "3.7.3"
  }
 },
 "nbformat": 4,
 "nbformat_minor": 2
}
