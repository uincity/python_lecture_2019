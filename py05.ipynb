{
 "cells": [
  {
   "cell_type": "markdown",
   "metadata": {},
   "source": [
    "## if & for 활용 (리스트에서 짝수인것만 리스트로 다시 작성한다)"
   ]
  },
  {
   "cell_type": "code",
   "execution_count": 3,
   "metadata": {},
   "outputs": [
    {
     "name": "stdout",
     "output_type": "stream",
     "text": [
      "[32, 63, 29, 48, 35, 71, 90, 51, 62, 38]\n"
     ]
    }
   ],
   "source": [
    "import random as r\n",
    "lst = list(r.sample(range(1,100), 10))  #1-100 사이의 숫자 랜덤 생성\n",
    "print(lst)"
   ]
  },
  {
   "cell_type": "code",
   "execution_count": 4,
   "metadata": {},
   "outputs": [
    {
     "name": "stdout",
     "output_type": "stream",
     "text": [
      "[32]\n",
      "[32, 48]\n",
      "[32, 48, 90]\n",
      "[32, 48, 90, 62]\n",
      "[32, 48, 90, 62, 38]\n"
     ]
    }
   ],
   "source": [
    "even=[] #짝수 담을 리스트 생성\n",
    "for item in lst :\n",
    "    if (item % 2 == 0) :\n",
    "        even.append(item)\n",
    "        print(even)\n"
   ]
  },
  {
   "cell_type": "code",
   "execution_count": 6,
   "metadata": {},
   "outputs": [
    {
     "name": "stdout",
     "output_type": "stream",
     "text": [
      "[32, 48, 90, 62, 38]\n"
     ]
    }
   ],
   "source": [
    "even=[] #짝수 담을 리스트 생성\n",
    "for item in lst :\n",
    "    if (item % 2 == 0) :\n",
    "        even.append(item)\n",
    "print(even)"
   ]
  },
  {
   "cell_type": "code",
   "execution_count": 8,
   "metadata": {},
   "outputs": [
    {
     "name": "stdout",
     "output_type": "stream",
     "text": [
      "짝수: [32, 48, 90, 62, 38]\n",
      "홀수: [63, 29, 35, 71, 51]\n"
     ]
    }
   ],
   "source": [
    "#짝수와 홀수를 모두 처리해보자...\n",
    "even=[] #짝수 담을 리스트 생성\n",
    "odd =[] \n",
    "for item in lst :\n",
    "    if (item % 2 == 0) :\n",
    "        even.append(item)\n",
    "    else :\n",
    "        odd.append(item)\n",
    "print('짝수:', even)\n",
    "print('홀수:', odd)"
   ]
  },
  {
   "cell_type": "markdown",
   "metadata": {},
   "source": [
    "### if ~ elif ~ else"
   ]
  },
  {
   "cell_type": "code",
   "execution_count": 9,
   "metadata": {},
   "outputs": [
    {
     "name": "stdout",
     "output_type": "stream",
     "text": [
      "['Fail', '재시험', 'Fail', 'Fail', 'Fail', 'Pass', 'Pass', 'Fail', '재시험', 'Fail']\n"
     ]
    }
   ],
   "source": [
    "result = []\n",
    "for item in lst :\n",
    "    if (item >= 70) : result.append('Pass')\n",
    "    elif (item >= 60) : result.append('재시험')\n",
    "    else : result.append('Fail')\n",
    "print(result)"
   ]
  },
  {
   "cell_type": "code",
   "execution_count": 14,
   "metadata": {},
   "outputs": [
    {
     "name": "stdout",
     "output_type": "stream",
     "text": [
      "Pass   인원: 2\n",
      "재시험 인원: 2\n",
      "Fail   인원: 6\n"
     ]
    }
   ],
   "source": [
    "print('Pass   인원:', result.count('Pass'))\n",
    "print('재시험 인원:', result.count('재시험'))\n",
    "print('Fail   인원:', result.count('Fail'))"
   ]
  },
  {
   "cell_type": "markdown",
   "metadata": {},
   "source": [
    "## for ~ if 문을 이용한 리스트 추출 (only Python)"
   ]
  },
  {
   "cell_type": "code",
   "execution_count": 15,
   "metadata": {},
   "outputs": [
    {
     "name": "stdout",
     "output_type": "stream",
     "text": [
      "[71, 90]\n"
     ]
    }
   ],
   "source": [
    "# 시험 Pass한 사람의 점수만 추출하기\n",
    "plist = [item for item in lst if item >=70 ]\n",
    "print(plist)\n"
   ]
  },
  {
   "cell_type": "markdown",
   "metadata": {},
   "source": [
    "### 반복문 (while) : continue, break "
   ]
  },
  {
   "cell_type": "code",
   "execution_count": 22,
   "metadata": {},
   "outputs": [
    {
     "name": "stdout",
     "output_type": "stream",
     "text": [
      "1\n",
      "3\n",
      "5\n"
     ]
    }
   ],
   "source": [
    "i = 0 \n",
    "while i<5 :\n",
    "    i = i+1\n",
    "    if i % 2 == 0 : continue # 홀수일때만 출력\n",
    "    print(i)\n",
    "    "
   ]
  },
  {
   "cell_type": "code",
   "execution_count": 23,
   "metadata": {},
   "outputs": [
    {
     "name": "stdout",
     "output_type": "stream",
     "text": [
      "1\n",
      "3\n"
     ]
    }
   ],
   "source": [
    "i = 0 \n",
    "while i<5 :\n",
    "    i = i+1\n",
    "    if i % 2 == 0 : continue # 홀수일때만 출력\n",
    "    if i >= 4 : break  # 4가 되면 루프 탈출\n",
    "    print(i)\n",
    "    "
   ]
  },
  {
   "cell_type": "markdown",
   "metadata": {},
   "source": [
    "## 리스트를 결합(zip)해서 딕셔너리 만들기 "
   ]
  },
  {
   "cell_type": "code",
   "execution_count": 16,
   "metadata": {},
   "outputs": [
    {
     "name": "stdout",
     "output_type": "stream",
     "text": [
      "[32, 63, 29, 48, 35, 71, 90, 51, 62, 38]\n",
      "['Fail', '재시험', 'Fail', 'Fail', 'Fail', 'Pass', 'Pass', 'Fail', '재시험', 'Fail']\n"
     ]
    }
   ],
   "source": [
    "print(lst)\n",
    "print(result)"
   ]
  },
  {
   "cell_type": "code",
   "execution_count": 17,
   "metadata": {},
   "outputs": [
    {
     "name": "stdout",
     "output_type": "stream",
     "text": [
      "{32: 'Fail', 63: '재시험', 29: 'Fail', 48: 'Fail', 35: 'Fail', 71: 'Pass', 90: 'Pass', 51: 'Fail', 62: '재시험', 38: 'Fail'}\n"
     ]
    }
   ],
   "source": [
    "#리스트 결합할때 zip 으로 묶는다.\n",
    "\n",
    "jumsu= dict(zip(lst,result))\n",
    "print(jumsu)"
   ]
  },
  {
   "cell_type": "code",
   "execution_count": 18,
   "metadata": {},
   "outputs": [
    {
     "name": "stdout",
     "output_type": "stream",
     "text": [
      "Pass\n"
     ]
    }
   ],
   "source": [
    "print(jumsu[90])"
   ]
  },
  {
   "cell_type": "code",
   "execution_count": 19,
   "metadata": {},
   "outputs": [
    {
     "name": "stdout",
     "output_type": "stream",
     "text": [
      "90\n"
     ]
    }
   ],
   "source": [
    "print(max(jumsu.keys())) #점수(key) 가장 높은점수 찾기"
   ]
  },
  {
   "cell_type": "code",
   "execution_count": 20,
   "metadata": {},
   "outputs": [
    {
     "name": "stdout",
     "output_type": "stream",
     "text": [
      "(90, 'Pass')\n"
     ]
    }
   ],
   "source": [
    "print(max(zip(jumsu.keys(), jumsu.values())))"
   ]
  }
 ],
 "metadata": {
  "kernelspec": {
   "display_name": "Python 3",
   "language": "python",
   "name": "python3"
  },
  "language_info": {
   "codemirror_mode": {
    "name": "ipython",
    "version": 3
   },
   "file_extension": ".py",
   "mimetype": "text/x-python",
   "name": "python",
   "nbconvert_exporter": "python",
   "pygments_lexer": "ipython3",
   "version": "3.7.3"
  }
 },
 "nbformat": 4,
 "nbformat_minor": 2
}
