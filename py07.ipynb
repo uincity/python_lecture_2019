{
 "cells": [
  {
   "cell_type": "markdown",
   "metadata": {},
   "source": [
    "## 함수 만들기 def"
   ]
  },
  {
   "cell_type": "code",
   "execution_count": 6,
   "metadata": {},
   "outputs": [],
   "source": [
    "def myfunc() :\n",
    "    print('안녕')"
   ]
  },
  {
   "cell_type": "code",
   "execution_count": 7,
   "metadata": {},
   "outputs": [
    {
     "name": "stdout",
     "output_type": "stream",
     "text": [
      "안녕\n"
     ]
    }
   ],
   "source": [
    "myfunc()"
   ]
  },
  {
   "cell_type": "code",
   "execution_count": 12,
   "metadata": {},
   "outputs": [],
   "source": [
    "def myfunc2(n):\n",
    "    for i in range(n):\n",
    "        print(i,': 안녕')"
   ]
  },
  {
   "cell_type": "code",
   "execution_count": 13,
   "metadata": {},
   "outputs": [
    {
     "name": "stdout",
     "output_type": "stream",
     "text": [
      "0 : 안녕\n",
      "1 : 안녕\n",
      "2 : 안녕\n"
     ]
    }
   ],
   "source": [
    "myfunc2(3)"
   ]
  },
  {
   "cell_type": "code",
   "execution_count": 14,
   "metadata": {},
   "outputs": [
    {
     "name": "stdout",
     "output_type": "stream",
     "text": [
      "0 : 안녕\n",
      "1 : 안녕\n",
      "2 : 안녕\n",
      "3 : 안녕\n",
      "4 : 안녕\n"
     ]
    }
   ],
   "source": [
    "myfunc2(5)"
   ]
  },
  {
   "cell_type": "code",
   "execution_count": 15,
   "metadata": {},
   "outputs": [],
   "source": [
    "def myfunc3(lst):\n",
    "    for i in range(len(lst)) :\n",
    "        print(lst[i])"
   ]
  },
  {
   "cell_type": "code",
   "execution_count": 16,
   "metadata": {},
   "outputs": [],
   "source": [
    "import random as r\n",
    "lst1=['a','b','c']\n",
    "\n",
    "lst2=r.sample(list(range(46)),6) # 0~46 사이에서 6가지 숫자 표본추출"
   ]
  },
  {
   "cell_type": "code",
   "execution_count": 17,
   "metadata": {},
   "outputs": [
    {
     "name": "stdout",
     "output_type": "stream",
     "text": [
      "a\n",
      "b\n",
      "c\n"
     ]
    }
   ],
   "source": [
    "myfunc3(lst1)"
   ]
  },
  {
   "cell_type": "code",
   "execution_count": 18,
   "metadata": {},
   "outputs": [
    {
     "name": "stdout",
     "output_type": "stream",
     "text": [
      "8\n",
      "25\n",
      "13\n",
      "30\n",
      "11\n",
      "4\n"
     ]
    }
   ],
   "source": [
    "myfunc3(lst2)"
   ]
  },
  {
   "cell_type": "markdown",
   "metadata": {},
   "source": [
    "### 인수가 여러개일경우"
   ]
  },
  {
   "cell_type": "code",
   "execution_count": 28,
   "metadata": {},
   "outputs": [],
   "source": [
    "def myfunc4(x, y,op):\n",
    "    if op in ['+','-','*','/'] :  #op관련 연산자 사전체크\n",
    "        if   op == '+' : ans = x + y\n",
    "        elif op == '-' : ans = x - y \n",
    "        elif op == '*' : ans = x * y\n",
    "        elif op == '/' : ans = x / y\n",
    "        print(x, op, y, '=',ans)\n",
    "    else :\n",
    "        print('연산자오류')"
   ]
  },
  {
   "cell_type": "code",
   "execution_count": 29,
   "metadata": {},
   "outputs": [
    {
     "name": "stdout",
     "output_type": "stream",
     "text": [
      "10 - 20 = -10\n"
     ]
    }
   ],
   "source": [
    "myfunc4(10,20,'-')"
   ]
  },
  {
   "cell_type": "code",
   "execution_count": 30,
   "metadata": {},
   "outputs": [
    {
     "name": "stdout",
     "output_type": "stream",
     "text": [
      "10 * 20 = 200\n"
     ]
    }
   ],
   "source": [
    "myfunc4(10,20,'*')"
   ]
  },
  {
   "cell_type": "code",
   "execution_count": 31,
   "metadata": {},
   "outputs": [
    {
     "name": "stdout",
     "output_type": "stream",
     "text": [
      "10 / 20 = 0.5\n"
     ]
    }
   ],
   "source": [
    "myfunc4(10,20,'/')"
   ]
  },
  {
   "cell_type": "code",
   "execution_count": 32,
   "metadata": {},
   "outputs": [
    {
     "name": "stdout",
     "output_type": "stream",
     "text": [
      "연산자오류\n"
     ]
    }
   ],
   "source": [
    "myfunc4(10,20,'&')"
   ]
  },
  {
   "cell_type": "code",
   "execution_count": 33,
   "metadata": {},
   "outputs": [],
   "source": [
    "def myfunc4(x, y,op):\n",
    "    if op not in ['+','-','*','/'] :   \n",
    "        print('연산자오류') #op관련 연산자 사전체크\n",
    "        return\n",
    "    if   op == '+' : ans = x + y\n",
    "    elif op == '-' : ans = x - y \n",
    "    elif op == '*' : ans = x * y\n",
    "    elif op == '/' : ans = x / y\n",
    "    print(x, op, y, '=',ans)\n",
    "       "
   ]
  },
  {
   "cell_type": "code",
   "execution_count": 34,
   "metadata": {},
   "outputs": [
    {
     "name": "stdout",
     "output_type": "stream",
     "text": [
      "10 / 20 = 0.5\n"
     ]
    }
   ],
   "source": [
    "myfunc4(10,20,'/')"
   ]
  },
  {
   "cell_type": "code",
   "execution_count": 35,
   "metadata": {},
   "outputs": [
    {
     "name": "stdout",
     "output_type": "stream",
     "text": [
      "연산자오류\n"
     ]
    }
   ],
   "source": [
    "myfunc4(10,20,'&')"
   ]
  },
  {
   "cell_type": "markdown",
   "metadata": {},
   "source": [
    "###  0~100 사이 숫자중 n개 샘플 추출 function"
   ]
  },
  {
   "cell_type": "code",
   "execution_count": 37,
   "metadata": {},
   "outputs": [],
   "source": [
    "import random as r\n",
    "\n",
    "def myfunc5(n) :\n",
    "    lst=r.sample(list(range(100)),n) # 0~100 사이에서 n가지 숫자 표본추출\n",
    "    return lst\n",
    "    "
   ]
  },
  {
   "cell_type": "code",
   "execution_count": 40,
   "metadata": {},
   "outputs": [
    {
     "name": "stdout",
     "output_type": "stream",
     "text": [
      "15\n",
      "91\n",
      "50\n",
      "35\n",
      "44\n"
     ]
    }
   ],
   "source": [
    "lst2 = myfunc5(5)\n",
    "myfunc3(lst2)"
   ]
  },
  {
   "cell_type": "code",
   "execution_count": 41,
   "metadata": {},
   "outputs": [
    {
     "name": "stdout",
     "output_type": "stream",
     "text": [
      "83\n",
      "66\n",
      "84\n",
      "79\n",
      "42\n",
      "87\n",
      "45\n"
     ]
    }
   ],
   "source": [
    "lst2 = myfunc5(7)\n",
    "myfunc3(lst2)"
   ]
  },
  {
   "cell_type": "markdown",
   "metadata": {},
   "source": [
    "#### function에서 return값을 2개 줄수 있다."
   ]
  },
  {
   "cell_type": "code",
   "execution_count": 42,
   "metadata": {},
   "outputs": [],
   "source": [
    "import random as r\n",
    "\n",
    "def myfunc5(n) :\n",
    "    lst=r.sample(list(range(100)),n) # 0~100 사이에서 n가지 숫자 표본추출\n",
    "    return lst, lst*2\n",
    "    "
   ]
  },
  {
   "cell_type": "markdown",
   "metadata": {},
   "source": [
    "####  2개를 리턴하면 함수 호출시 변수를 2개를 지정해야 한다"
   ]
  },
  {
   "cell_type": "code",
   "execution_count": 43,
   "metadata": {},
   "outputs": [
    {
     "name": "stdout",
     "output_type": "stream",
     "text": [
      "[13, 18, 89]\n",
      "[13, 18, 89, 13, 18, 89]\n"
     ]
    }
   ],
   "source": [
    "l1,l2 = myfunc5(3)\n",
    "print(l1)\n",
    "print(l2)"
   ]
  },
  {
   "cell_type": "markdown",
   "metadata": {},
   "source": [
    "### 파일을 읽어서 2개의 리스트를 만들어주는 function 만들기\n",
    "#### 구분자 2개인걸로 제한하여 테스트"
   ]
  },
  {
   "cell_type": "code",
   "execution_count": 53,
   "metadata": {},
   "outputs": [],
   "source": [
    "def rcsv(filename):\n",
    "    lst1 = []\n",
    "    lst2 = []\n",
    "    \n",
    "    f = open(filename,'r')\n",
    "    data = f.readlines()\n",
    "    f.close\n",
    "    \n",
    "    for line in data :\n",
    "        line = line.replace('\\n','')   # return 문자 공백처리\n",
    "        item = line.split(',')\n",
    "        lst1.append(item[0])\n",
    "        lst2.append(item[1])\n",
    "    return lst1, lst2"
   ]
  },
  {
   "cell_type": "code",
   "execution_count": 54,
   "metadata": {},
   "outputs": [
    {
     "name": "stdout",
     "output_type": "stream",
     "text": [
      "['종목명', '삼성전자', '남영비비안', 'SK하이닉스', '후성', '플리토', '메지온', '삼륭물산', '이아이디', '삼성전기', '헬릭스미스']\n",
      "['현재가', '47450', '9170', '79900', '10400', '37850', '103300', '9330', '422', '97700', '218700']\n"
     ]
    }
   ],
   "source": [
    "lst1, lst2 = rcsv('./data/증권정보.csv')\n",
    "print(lst1)\n",
    "print(lst2)"
   ]
  },
  {
   "cell_type": "code",
   "execution_count": 56,
   "metadata": {},
   "outputs": [
    {
     "name": "stdout",
     "output_type": "stream",
     "text": [
      "['서울', '부산', '대구', '인천', '광주', '대전', '울산', '세종', '경기', '강원', '충북', '충남', '전북', '전남', '경북', '경남', '제주']\n",
      "['20', '26', '24', '24', '25', '22', '26', '23', '24', '23', '26', '22', '24', '23', '28', '29', '26']\n"
     ]
    }
   ],
   "source": [
    "lst1, lst2 = rcsv('./data/도별미세먼지.csv')\n",
    "print(lst1)\n",
    "print(lst2)"
   ]
  }
 ],
 "metadata": {
  "kernelspec": {
   "display_name": "Python 3",
   "language": "python",
   "name": "python3"
  },
  "language_info": {
   "codemirror_mode": {
    "name": "ipython",
    "version": 3
   },
   "file_extension": ".py",
   "mimetype": "text/x-python",
   "name": "python",
   "nbconvert_exporter": "python",
   "pygments_lexer": "ipython3",
   "version": "3.7.3"
  }
 },
 "nbformat": 4,
 "nbformat_minor": 2
}
